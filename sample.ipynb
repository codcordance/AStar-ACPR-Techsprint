{
 "cells": [
  {
   "cell_type": "code",
   "execution_count": 1,
   "id": "initial_id",
   "metadata": {
    "collapsed": true,
    "ExecuteTime": {
     "end_time": "2024-02-27T15:16:40.563439Z",
     "start_time": "2024-02-27T15:16:29.564129Z"
    }
   },
   "outputs": [
    {
     "name": "stdout",
     "output_type": "stream",
     "text": [
      "Collecting tika\n",
      "  Downloading tika-2.6.0.tar.gz (27 kB)\n",
      "  Preparing metadata (setup.py): started\n",
      "  Preparing metadata (setup.py): finished with status 'done'\n",
      "Requirement already satisfied: setuptools in c:\\users\\e-per\\.conda\\envs\\hackaton-apcr\\lib\\site-packages (from tika) (68.2.2)\n",
      "Requirement already satisfied: requests in c:\\users\\e-per\\.conda\\envs\\hackaton-apcr\\lib\\site-packages (from tika) (2.31.0)\n",
      "Requirement already satisfied: charset-normalizer<4,>=2 in c:\\users\\e-per\\.conda\\envs\\hackaton-apcr\\lib\\site-packages (from requests->tika) (2.0.4)\n",
      "Requirement already satisfied: idna<4,>=2.5 in c:\\users\\e-per\\.conda\\envs\\hackaton-apcr\\lib\\site-packages (from requests->tika) (3.4)\n",
      "Requirement already satisfied: urllib3<3,>=1.21.1 in c:\\users\\e-per\\.conda\\envs\\hackaton-apcr\\lib\\site-packages (from requests->tika) (2.1.0)\n",
      "Requirement already satisfied: certifi>=2017.4.17 in c:\\users\\e-per\\.conda\\envs\\hackaton-apcr\\lib\\site-packages (from requests->tika) (2024.2.2)\n",
      "Building wheels for collected packages: tika\n",
      "  Building wheel for tika (setup.py): started\n",
      "  Building wheel for tika (setup.py): finished with status 'done'\n",
      "  Created wheel for tika: filename=tika-2.6.0-py3-none-any.whl size=32687 sha256=63130784ba096ffe2b73833952376619dab598286c77916bdb06ea37f20efb9e\n",
      "  Stored in directory: c:\\users\\e-per\\appdata\\local\\pip\\cache\\wheels\\02\\bd\\74\\313abcb9271e041e30734880e6813385150dd93627e9659de5\n",
      "Successfully built tika\n",
      "Installing collected packages: tika\n",
      "Successfully installed tika-2.6.0\n"
     ]
    }
   ],
   "source": [
    "!pip install PyMuPDF"
   ]
  },
  {
   "cell_type": "code",
   "outputs": [],
   "source": [
    "from tika import parser"
   ],
   "metadata": {
    "collapsed": false,
    "ExecuteTime": {
     "end_time": "2024-02-27T15:16:52.245347Z",
     "start_time": "2024-02-27T15:16:52.016659Z"
    }
   },
   "id": "6e4ed860f4e3343",
   "execution_count": 2
  },
  {
   "cell_type": "code",
   "outputs": [
    {
     "name": "stderr",
     "output_type": "stream",
     "text": [
      "2024-02-27 16:17:12,286 [MainThread  ] [INFO ]  Retrieving http://search.maven.org/remotecontent?filepath=org/apache/tika/tika-server-standard/2.6.0/tika-server-standard-2.6.0.jar to C:\\Users\\e-per\\AppData\\Local\\Temp\\tika-server.jar.\n",
      "2024-02-27 16:17:45,900 [MainThread  ] [INFO ]  Retrieving http://search.maven.org/remotecontent?filepath=org/apache/tika/tika-server-standard/2.6.0/tika-server-standard-2.6.0.jar.md5 to C:\\Users\\e-per\\AppData\\Local\\Temp\\tika-server.jar.md5.\n",
      "2024-02-27 16:17:46,352 [MainThread  ] [ERROR]  Unable to run java; is it installed?\n",
      "2024-02-27 16:17:46,354 [MainThread  ] [ERROR]  Failed to receive startup confirmation from startServer.\n"
     ]
    },
    {
     "ename": "RuntimeError",
     "evalue": "Unable to start Tika server.",
     "output_type": "error",
     "traceback": [
      "\u001B[1;31m---------------------------------------------------------------------------\u001B[0m",
      "\u001B[1;31mRuntimeError\u001B[0m                              Traceback (most recent call last)",
      "Cell \u001B[1;32mIn[3], line 1\u001B[0m\n\u001B[1;32m----> 1\u001B[0m raw \u001B[38;5;241m=\u001B[39m \u001B[43mparser\u001B[49m\u001B[38;5;241;43m.\u001B[39;49m\u001B[43mfrom_file\u001B[49m\u001B[43m(\u001B[49m\u001B[38;5;124;43m'\u001B[39;49m\u001B[38;5;124;43meuo2-2003068179-v1-bnpp-at1-eur-2023-prospectus-final.pdf\u001B[39;49m\u001B[38;5;124;43m'\u001B[39;49m\u001B[43m)\u001B[49m\n\u001B[0;32m      3\u001B[0m raw\n",
      "File \u001B[1;32m~\\.conda\\envs\\Hackaton-APCR\\lib\\site-packages\\tika\\parser.py:40\u001B[0m, in \u001B[0;36mfrom_file\u001B[1;34m(filename, serverEndpoint, service, xmlContent, headers, config_path, requestOptions, raw_response)\u001B[0m\n\u001B[0;32m     24\u001B[0m \u001B[38;5;250m\u001B[39m\u001B[38;5;124;03m'''\u001B[39;00m\n\u001B[0;32m     25\u001B[0m \u001B[38;5;124;03mParses a file for metadata and content\u001B[39;00m\n\u001B[0;32m     26\u001B[0m \u001B[38;5;124;03m:param filename: path to file which needs to be parsed or binary file using open(path,'rb')\u001B[39;00m\n\u001B[1;32m   (...)\u001B[0m\n\u001B[0;32m     37\u001B[0m \u001B[38;5;124;03m        'content' has a str value and metadata has a dict type value.\u001B[39;00m\n\u001B[0;32m     38\u001B[0m \u001B[38;5;124;03m'''\u001B[39;00m\n\u001B[0;32m     39\u001B[0m \u001B[38;5;28;01mif\u001B[39;00m \u001B[38;5;129;01mnot\u001B[39;00m xmlContent:\n\u001B[1;32m---> 40\u001B[0m     output \u001B[38;5;241m=\u001B[39m \u001B[43mparse1\u001B[49m\u001B[43m(\u001B[49m\u001B[43mservice\u001B[49m\u001B[43m,\u001B[49m\u001B[43m \u001B[49m\u001B[43mfilename\u001B[49m\u001B[43m,\u001B[49m\u001B[43m \u001B[49m\u001B[43mserverEndpoint\u001B[49m\u001B[43m,\u001B[49m\u001B[43m \u001B[49m\u001B[43mheaders\u001B[49m\u001B[38;5;241;43m=\u001B[39;49m\u001B[43mheaders\u001B[49m\u001B[43m,\u001B[49m\u001B[43m \u001B[49m\u001B[43mconfig_path\u001B[49m\u001B[38;5;241;43m=\u001B[39;49m\u001B[43mconfig_path\u001B[49m\u001B[43m,\u001B[49m\u001B[43m \u001B[49m\u001B[43mrequestOptions\u001B[49m\u001B[38;5;241;43m=\u001B[39;49m\u001B[43mrequestOptions\u001B[49m\u001B[43m)\u001B[49m\n\u001B[0;32m     41\u001B[0m \u001B[38;5;28;01melse\u001B[39;00m:\n\u001B[0;32m     42\u001B[0m     output \u001B[38;5;241m=\u001B[39m parse1(service, filename, serverEndpoint, services\u001B[38;5;241m=\u001B[39m{\u001B[38;5;124m'\u001B[39m\u001B[38;5;124mmeta\u001B[39m\u001B[38;5;124m'\u001B[39m: \u001B[38;5;124m'\u001B[39m\u001B[38;5;124m/meta\u001B[39m\u001B[38;5;124m'\u001B[39m, \u001B[38;5;124m'\u001B[39m\u001B[38;5;124mtext\u001B[39m\u001B[38;5;124m'\u001B[39m: \u001B[38;5;124m'\u001B[39m\u001B[38;5;124m/tika\u001B[39m\u001B[38;5;124m'\u001B[39m, \u001B[38;5;124m'\u001B[39m\u001B[38;5;124mall\u001B[39m\u001B[38;5;124m'\u001B[39m: \u001B[38;5;124m'\u001B[39m\u001B[38;5;124m/rmeta/xml\u001B[39m\u001B[38;5;124m'\u001B[39m},\n\u001B[0;32m     43\u001B[0m                         headers\u001B[38;5;241m=\u001B[39mheaders, config_path\u001B[38;5;241m=\u001B[39mconfig_path, requestOptions\u001B[38;5;241m=\u001B[39mrequestOptions)\n",
      "File \u001B[1;32m~\\.conda\\envs\\Hackaton-APCR\\lib\\site-packages\\tika\\tika.py:337\u001B[0m, in \u001B[0;36mparse1\u001B[1;34m(option, urlOrPath, serverEndpoint, verbose, tikaServerJar, responseMimeType, services, rawResponse, headers, config_path, requestOptions)\u001B[0m\n\u001B[0;32m    335\u001B[0m headers\u001B[38;5;241m.\u001B[39mupdate({\u001B[38;5;124m'\u001B[39m\u001B[38;5;124mAccept\u001B[39m\u001B[38;5;124m'\u001B[39m: responseMimeType, \u001B[38;5;124m'\u001B[39m\u001B[38;5;124mContent-Disposition\u001B[39m\u001B[38;5;124m'\u001B[39m: make_content_disposition_header(path\u001B[38;5;241m.\u001B[39mencode(\u001B[38;5;124m'\u001B[39m\u001B[38;5;124mutf-8\u001B[39m\u001B[38;5;124m'\u001B[39m) \u001B[38;5;28;01mif\u001B[39;00m \u001B[38;5;28mtype\u001B[39m(path) \u001B[38;5;129;01mis\u001B[39;00m unicode_string \u001B[38;5;28;01melse\u001B[39;00m path)})\n\u001B[0;32m    336\u001B[0m \u001B[38;5;28;01mwith\u001B[39;00m urlOrPath \u001B[38;5;28;01mif\u001B[39;00m _is_file_object(urlOrPath) \u001B[38;5;28;01melse\u001B[39;00m \u001B[38;5;28mopen\u001B[39m(path, \u001B[38;5;124m'\u001B[39m\u001B[38;5;124mrb\u001B[39m\u001B[38;5;124m'\u001B[39m) \u001B[38;5;28;01mas\u001B[39;00m f:\n\u001B[1;32m--> 337\u001B[0m     status, response \u001B[38;5;241m=\u001B[39m \u001B[43mcallServer\u001B[49m\u001B[43m(\u001B[49m\u001B[38;5;124;43m'\u001B[39;49m\u001B[38;5;124;43mput\u001B[39;49m\u001B[38;5;124;43m'\u001B[39;49m\u001B[43m,\u001B[49m\u001B[43m \u001B[49m\u001B[43mserverEndpoint\u001B[49m\u001B[43m,\u001B[49m\u001B[43m \u001B[49m\u001B[43mservice\u001B[49m\u001B[43m,\u001B[49m\u001B[43m \u001B[49m\u001B[43mf\u001B[49m\u001B[43m,\u001B[49m\n\u001B[0;32m    338\u001B[0m \u001B[43m                                  \u001B[49m\u001B[43mheaders\u001B[49m\u001B[43m,\u001B[49m\u001B[43m \u001B[49m\u001B[43mverbose\u001B[49m\u001B[43m,\u001B[49m\u001B[43m \u001B[49m\u001B[43mtikaServerJar\u001B[49m\u001B[43m,\u001B[49m\u001B[43m \u001B[49m\u001B[43mconfig_path\u001B[49m\u001B[38;5;241;43m=\u001B[39;49m\u001B[43mconfig_path\u001B[49m\u001B[43m,\u001B[49m\n\u001B[0;32m    339\u001B[0m \u001B[43m                                  \u001B[49m\u001B[43mrawResponse\u001B[49m\u001B[38;5;241;43m=\u001B[39;49m\u001B[43mrawResponse\u001B[49m\u001B[43m,\u001B[49m\u001B[43m \u001B[49m\u001B[43mrequestOptions\u001B[49m\u001B[38;5;241;43m=\u001B[39;49m\u001B[43mrequestOptions\u001B[49m\u001B[43m)\u001B[49m\n\u001B[0;32m    341\u001B[0m \u001B[38;5;28;01mif\u001B[39;00m file_type \u001B[38;5;241m==\u001B[39m \u001B[38;5;124m'\u001B[39m\u001B[38;5;124mremote\u001B[39m\u001B[38;5;124m'\u001B[39m: os\u001B[38;5;241m.\u001B[39munlink(path)\n\u001B[0;32m    342\u001B[0m \u001B[38;5;28;01mreturn\u001B[39;00m (status, response)\n",
      "File \u001B[1;32m~\\.conda\\envs\\Hackaton-APCR\\lib\\site-packages\\tika\\tika.py:532\u001B[0m, in \u001B[0;36mcallServer\u001B[1;34m(verb, serverEndpoint, service, data, headers, verbose, tikaServerJar, httpVerbs, classpath, rawResponse, config_path, requestOptions)\u001B[0m\n\u001B[0;32m    530\u001B[0m \u001B[38;5;28;01mglobal\u001B[39;00m TikaClientOnly\n\u001B[0;32m    531\u001B[0m \u001B[38;5;28;01mif\u001B[39;00m \u001B[38;5;129;01mnot\u001B[39;00m TikaClientOnly:\n\u001B[1;32m--> 532\u001B[0m     serverEndpoint \u001B[38;5;241m=\u001B[39m \u001B[43mcheckTikaServer\u001B[49m\u001B[43m(\u001B[49m\u001B[43mscheme\u001B[49m\u001B[43m,\u001B[49m\u001B[43m \u001B[49m\u001B[43mserverHost\u001B[49m\u001B[43m,\u001B[49m\u001B[43m \u001B[49m\u001B[43mport\u001B[49m\u001B[43m,\u001B[49m\u001B[43m \u001B[49m\u001B[43mtikaServerJar\u001B[49m\u001B[43m,\u001B[49m\u001B[43m \u001B[49m\u001B[43mclasspath\u001B[49m\u001B[43m,\u001B[49m\u001B[43m \u001B[49m\u001B[43mconfig_path\u001B[49m\u001B[43m)\u001B[49m\n\u001B[0;32m    534\u001B[0m serviceUrl  \u001B[38;5;241m=\u001B[39m serverEndpoint \u001B[38;5;241m+\u001B[39m service\n\u001B[0;32m    535\u001B[0m \u001B[38;5;28;01mif\u001B[39;00m verb \u001B[38;5;129;01mnot\u001B[39;00m \u001B[38;5;129;01min\u001B[39;00m httpVerbs:\n",
      "File \u001B[1;32m~\\.conda\\envs\\Hackaton-APCR\\lib\\site-packages\\tika\\tika.py:602\u001B[0m, in \u001B[0;36mcheckTikaServer\u001B[1;34m(scheme, serverHost, port, tikaServerJar, classpath, config_path)\u001B[0m\n\u001B[0;32m    600\u001B[0m         \u001B[38;5;28;01mif\u001B[39;00m \u001B[38;5;129;01mnot\u001B[39;00m status:\n\u001B[0;32m    601\u001B[0m             log\u001B[38;5;241m.\u001B[39merror(\u001B[38;5;124m\"\u001B[39m\u001B[38;5;124mFailed to receive startup confirmation from startServer.\u001B[39m\u001B[38;5;124m\"\u001B[39m)\n\u001B[1;32m--> 602\u001B[0m             \u001B[38;5;28;01mraise\u001B[39;00m \u001B[38;5;167;01mRuntimeError\u001B[39;00m(\u001B[38;5;124m\"\u001B[39m\u001B[38;5;124mUnable to start Tika server.\u001B[39m\u001B[38;5;124m\"\u001B[39m)\n\u001B[0;32m    603\u001B[0m \u001B[38;5;28;01mreturn\u001B[39;00m serverEndpoint\n",
      "\u001B[1;31mRuntimeError\u001B[0m: Unable to start Tika server."
     ]
    }
   ],
   "source": [
    "raw = parser.from_file('euo2-2003068179-v1-bnpp-at1-eur-2023-prospectus-final.pdf')\n",
    "\n",
    "raw"
   ],
   "metadata": {
    "collapsed": false,
    "ExecuteTime": {
     "end_time": "2024-02-27T15:17:47.813809Z",
     "start_time": "2024-02-27T15:17:10.251640Z"
    }
   },
   "id": "acdacda6a3699452",
   "execution_count": 3
  },
  {
   "cell_type": "code",
   "outputs": [],
   "source": [],
   "metadata": {
    "collapsed": false
   },
   "id": "517fcd599026452b"
  }
 ],
 "metadata": {
  "kernelspec": {
   "display_name": "Python 3",
   "language": "python",
   "name": "python3"
  },
  "language_info": {
   "codemirror_mode": {
    "name": "ipython",
    "version": 2
   },
   "file_extension": ".py",
   "mimetype": "text/x-python",
   "name": "python",
   "nbconvert_exporter": "python",
   "pygments_lexer": "ipython2",
   "version": "2.7.6"
  }
 },
 "nbformat": 4,
 "nbformat_minor": 5
}
