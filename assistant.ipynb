{
 "cells": [
  {
   "cell_type": "code",
   "execution_count": 1,
   "metadata": {},
   "outputs": [
    {
     "name": "stdout",
     "output_type": "stream",
     "text": [
      "Requirement already satisfied: pandas in d:\\code\\hackaton-acpr\\.venv\\lib\\site-packages (2.2.1)\n",
      "Requirement already satisfied: numpy in d:\\code\\hackaton-acpr\\.venv\\lib\\site-packages (1.26.4)\n",
      "Requirement already satisfied: matplotlib in d:\\code\\hackaton-acpr\\.venv\\lib\\site-packages (3.8.3)\n",
      "Requirement already satisfied: tiktoken in d:\\code\\hackaton-acpr\\.venv\\lib\\site-packages (0.6.0)\n",
      "Requirement already satisfied: openai in d:\\code\\hackaton-acpr\\.venv\\lib\\site-packages (1.12.0)\n",
      "Requirement already satisfied: python-dateutil>=2.8.2 in d:\\code\\hackaton-acpr\\.venv\\lib\\site-packages (from pandas) (2.8.2)\n",
      "Requirement already satisfied: pytz>=2020.1 in d:\\code\\hackaton-acpr\\.venv\\lib\\site-packages (from pandas) (2024.1)\n",
      "Requirement already satisfied: tzdata>=2022.7 in d:\\code\\hackaton-acpr\\.venv\\lib\\site-packages (from pandas) (2024.1)\n",
      "Requirement already satisfied: contourpy>=1.0.1 in d:\\code\\hackaton-acpr\\.venv\\lib\\site-packages (from matplotlib) (1.2.0)\n",
      "Requirement already satisfied: cycler>=0.10 in d:\\code\\hackaton-acpr\\.venv\\lib\\site-packages (from matplotlib) (0.12.1)\n",
      "Requirement already satisfied: fonttools>=4.22.0 in d:\\code\\hackaton-acpr\\.venv\\lib\\site-packages (from matplotlib) (4.49.0)\n",
      "Requirement already satisfied: kiwisolver>=1.3.1 in d:\\code\\hackaton-acpr\\.venv\\lib\\site-packages (from matplotlib) (1.4.5)\n",
      "Requirement already satisfied: packaging>=20.0 in d:\\code\\hackaton-acpr\\.venv\\lib\\site-packages (from matplotlib) (23.2)\n",
      "Requirement already satisfied: pillow>=8 in d:\\code\\hackaton-acpr\\.venv\\lib\\site-packages (from matplotlib) (10.2.0)\n",
      "Requirement already satisfied: pyparsing>=2.3.1 in d:\\code\\hackaton-acpr\\.venv\\lib\\site-packages (from matplotlib) (3.1.1)\n",
      "Requirement already satisfied: regex>=2022.1.18 in d:\\code\\hackaton-acpr\\.venv\\lib\\site-packages (from tiktoken) (2023.12.25)\n",
      "Requirement already satisfied: requests>=2.26.0 in d:\\code\\hackaton-acpr\\.venv\\lib\\site-packages (from tiktoken) (2.31.0)\n",
      "Requirement already satisfied: anyio<5,>=3.5.0 in d:\\code\\hackaton-acpr\\.venv\\lib\\site-packages (from openai) (4.3.0)\n",
      "Requirement already satisfied: distro<2,>=1.7.0 in d:\\code\\hackaton-acpr\\.venv\\lib\\site-packages (from openai) (1.9.0)\n",
      "Requirement already satisfied: httpx<1,>=0.23.0 in d:\\code\\hackaton-acpr\\.venv\\lib\\site-packages (from openai) (0.27.0)\n",
      "Requirement already satisfied: pydantic<3,>=1.9.0 in d:\\code\\hackaton-acpr\\.venv\\lib\\site-packages (from openai) (2.6.3)\n",
      "Requirement already satisfied: sniffio in d:\\code\\hackaton-acpr\\.venv\\lib\\site-packages (from openai) (1.3.1)\n",
      "Requirement already satisfied: tqdm>4 in d:\\code\\hackaton-acpr\\.venv\\lib\\site-packages (from openai) (4.66.2)\n",
      "Requirement already satisfied: typing-extensions<5,>=4.7 in d:\\code\\hackaton-acpr\\.venv\\lib\\site-packages (from openai) (4.10.0)\n",
      "Requirement already satisfied: idna>=2.8 in d:\\code\\hackaton-acpr\\.venv\\lib\\site-packages (from anyio<5,>=3.5.0->openai) (3.6)\n",
      "Requirement already satisfied: certifi in d:\\code\\hackaton-acpr\\.venv\\lib\\site-packages (from httpx<1,>=0.23.0->openai) (2024.2.2)\n",
      "Requirement already satisfied: httpcore==1.* in d:\\code\\hackaton-acpr\\.venv\\lib\\site-packages (from httpx<1,>=0.23.0->openai) (1.0.4)\n",
      "Requirement already satisfied: h11<0.15,>=0.13 in d:\\code\\hackaton-acpr\\.venv\\lib\\site-packages (from httpcore==1.*->httpx<1,>=0.23.0->openai) (0.14.0)\n",
      "Requirement already satisfied: annotated-types>=0.4.0 in d:\\code\\hackaton-acpr\\.venv\\lib\\site-packages (from pydantic<3,>=1.9.0->openai) (0.6.0)\n",
      "Requirement already satisfied: pydantic-core==2.16.3 in d:\\code\\hackaton-acpr\\.venv\\lib\\site-packages (from pydantic<3,>=1.9.0->openai) (2.16.3)\n",
      "Requirement already satisfied: six>=1.5 in d:\\code\\hackaton-acpr\\.venv\\lib\\site-packages (from python-dateutil>=2.8.2->pandas) (1.16.0)\n",
      "Requirement already satisfied: charset-normalizer<4,>=2 in d:\\code\\hackaton-acpr\\.venv\\lib\\site-packages (from requests>=2.26.0->tiktoken) (3.3.2)\n",
      "Requirement already satisfied: urllib3<3,>=1.21.1 in d:\\code\\hackaton-acpr\\.venv\\lib\\site-packages (from requests>=2.26.0->tiktoken) (2.2.1)\n",
      "Requirement already satisfied: colorama in d:\\code\\hackaton-acpr\\.venv\\lib\\site-packages (from tqdm>4->openai) (0.4.6)\n"
     ]
    }
   ],
   "source": [
    "!pip install pandas numpy matplotlib tiktoken openai"
   ]
  },
  {
   "cell_type": "code",
   "execution_count": 2,
   "metadata": {},
   "outputs": [],
   "source": [
    "import pandas as pd\n",
    "import numpy as np\n",
    "import matplotlib"
   ]
  },
  {
   "cell_type": "code",
   "execution_count": 3,
   "metadata": {},
   "outputs": [],
   "source": [
    "contents = []\n",
    "\n",
    "for i in range(1, 8):\n",
    "    file_name = f\"./control_points/{i}.txt\"\n",
    "    try:\n",
    "        with open(file_name, 'r', encoding=\"utf-8\") as file:\n",
    "            content = file.read()\n",
    "            contents.append({'content': content})\n",
    "    except FileNotFoundError:\n",
    "        print(f\"File {file_name} not found.\")\n",
    "\n",
    "df = pd.DataFrame(contents, columns=['content'])"
   ]
  },
  {
   "cell_type": "code",
   "execution_count": 5,
   "metadata": {},
   "outputs": [],
   "source": [
    "import re"
   ]
  },
  {
   "cell_type": "code",
   "execution_count": 6,
   "metadata": {},
   "outputs": [],
   "source": [
    "pd.options.mode.chained_assignment = None \n",
    "# s is input text\n",
    "def normalize_text(s, sep_token = \" \\n \"):\n",
    "    s = re.sub(r'\\s+',  ' ', s).strip()\n",
    "    s = re.sub(r\". ,\",\"\",s)\n",
    "    # remove all instances of multiple spaces\n",
    "    s = s.replace(\"..\",\".\")\n",
    "    s = s.replace(\". .\",\".\")\n",
    "    s = s.replace(\"\\n\", \"\")\n",
    "    s = s.strip()\n",
    "    \n",
    "    return s\n",
    "\n",
    "df['content']= df[\"content\"].apply(lambda x : normalize_text(x))"
   ]
  },
  {
   "cell_type": "code",
   "execution_count": 7,
   "metadata": {},
   "outputs": [],
   "source": [
    "import tiktoken"
   ]
  },
  {
   "cell_type": "code",
   "execution_count": 8,
   "metadata": {},
   "outputs": [],
   "source": [
    "tokenizer = tiktoken.get_encoding(\"cl100k_base\")\n",
    "df['n_tokens'] = df[\"content\"].apply(lambda x: len(tokenizer.encode(x)))\n",
    "df = df[df.n_tokens<8192]"
   ]
  },
  {
   "cell_type": "code",
   "execution_count": 9,
   "metadata": {},
   "outputs": [],
   "source": [
    "import os\n",
    "from openai import AzureOpenAI"
   ]
  },
  {
   "cell_type": "code",
   "execution_count": 10,
   "metadata": {},
   "outputs": [],
   "source": [
    "os.environ[\"AZURE_OPENAI_KEY\"] = \"7e93421f46cd4680831023addcb0f42d\"\n",
    "os.environ[\"AZURE_OPENAI_ENDPOINT\"] = \"https://francecentral-openai.openai.azure.com\"\n",
    "client = AzureOpenAI(\n",
    "  api_key = os.getenv(\"AZURE_OPENAI_KEY\"),  \n",
    "  api_version = \"2023-05-15\",\n",
    "  azure_endpoint = os.getenv(\"AZURE_OPENAI_ENDPOINT\")\n",
    ")\n",
    "\n",
    "def generate_embeddings(text, model=\"ada-002\"): # model = \"deployment_name\"\n",
    "    return client.embeddings.create(input = [text], model=model).data[0].embedding\n",
    "\n",
    "df['embedding'] = df[\"content\"].apply(lambda x : generate_embeddings (x, model = \"ada-002\")) "
   ]
  },
  {
   "cell_type": "code",
   "execution_count": 11,
   "metadata": {},
   "outputs": [],
   "source": [
    "def cosine_similarity(a, b):\n",
    "    return np.dot(a, b) / (np.linalg.norm(a) * np.linalg.norm(b))\n",
    "\n",
    "def get_embedding(text, model=\"ada-002\"): # model = \"deployment_name\"\n",
    "    return client.embeddings.create(input = [text], model=model).data[0].embedding\n",
    "\n",
    "def search_docs(_df, user_query, top_n=4, to_print=True):\n",
    "    embedding = get_embedding(\n",
    "        user_query,\n",
    "        model=\"ada-002\" # model should be set to the deployment name you chose when you deployed the text-embedding-ada-002 (Version 2) model\n",
    "    )\n",
    "    _df[\"similarities\"] = _df[\"embedding\"].apply(lambda x: cosine_similarity(x, embedding))\n",
    "\n",
    "    res = (\n",
    "        _df.sort_values(\"similarities\", ascending=False)\n",
    "        .head(top_n)\n",
    "    )\n",
    "    if to_print:\n",
    "        display(res)\n",
    "    return res"
   ]
  },
  {
   "cell_type": "code",
   "execution_count": 12,
   "metadata": {},
   "outputs": [
    {
     "data": {
      "text/html": [
       "<div>\n",
       "<style scoped>\n",
       "    .dataframe tbody tr th:only-of-type {\n",
       "        vertical-align: middle;\n",
       "    }\n",
       "\n",
       "    .dataframe tbody tr th {\n",
       "        vertical-align: top;\n",
       "    }\n",
       "\n",
       "    .dataframe thead th {\n",
       "        text-align: right;\n",
       "    }\n",
       "</style>\n",
       "<table border=\"1\" class=\"dataframe\">\n",
       "  <thead>\n",
       "    <tr style=\"text-align: right;\">\n",
       "      <th></th>\n",
       "      <th>content</th>\n",
       "      <th>n_tokens</th>\n",
       "      <th>embedding</th>\n",
       "      <th>similarities</th>\n",
       "    </tr>\n",
       "  </thead>\n",
       "  <tbody>\n",
       "    <tr>\n",
       "      <th>6</th>\n",
       "      <td>Point de contrôle 13 ======= # Catégorie : Aut...</td>\n",
       "      <td>323</td>\n",
       "      <td>[-0.00961134023964405, -0.00813981145620346, 0...</td>\n",
       "      <td>0.876890</td>\n",
       "    </tr>\n",
       "    <tr>\n",
       "      <th>0</th>\n",
       "      <td>Point de contrôle 1 ======= # Catégorie : Tier...</td>\n",
       "      <td>143</td>\n",
       "      <td>[-0.017865363508462906, -0.019515523687005043,...</td>\n",
       "      <td>0.766913</td>\n",
       "    </tr>\n",
       "    <tr>\n",
       "      <th>5</th>\n",
       "      <td>Point de contrôle 23 ======= # Catégorie : Don...</td>\n",
       "      <td>386</td>\n",
       "      <td>[-0.009391171857714653, 0.007496757432818413, ...</td>\n",
       "      <td>0.766757</td>\n",
       "    </tr>\n",
       "    <tr>\n",
       "      <th>3</th>\n",
       "      <td>Point de contrôle 4 ======= # Catégorie : Tier...</td>\n",
       "      <td>513</td>\n",
       "      <td>[-0.027942441403865814, -0.019337281584739685,...</td>\n",
       "      <td>0.761505</td>\n",
       "    </tr>\n",
       "  </tbody>\n",
       "</table>\n",
       "</div>"
      ],
      "text/plain": [
       "                                             content  n_tokens  \\\n",
       "6  Point de contrôle 13 ======= # Catégorie : Aut...       323   \n",
       "0  Point de contrôle 1 ======= # Catégorie : Tier...       143   \n",
       "5  Point de contrôle 23 ======= # Catégorie : Don...       386   \n",
       "3  Point de contrôle 4 ======= # Catégorie : Tier...       513   \n",
       "\n",
       "                                           embedding  similarities  \n",
       "6  [-0.00961134023964405, -0.00813981145620346, 0...      0.876890  \n",
       "0  [-0.017865363508462906, -0.019515523687005043,...      0.766913  \n",
       "5  [-0.009391171857714653, 0.007496757432818413, ...      0.766757  \n",
       "3  [-0.027942441403865814, -0.019337281584739685,...      0.761505  "
      ]
     },
     "metadata": {},
     "output_type": "display_data"
    }
   ],
   "source": [
    "res = search_docs(df, \"Le token de l'utilisateur se retrouve régulièrement invalidé dans un délai de moins de 180 jours. \"\n",
    ", top_n=4)"
   ]
  },
  {
   "cell_type": "code",
   "execution_count": 13,
   "metadata": {},
   "outputs": [],
   "source": [
    "system_prompt = \"\"\"Objectif Principal : Le système doit permettre aux employés de l'ACPR d'accéder facilement aux documents normatifs relatifs à la supervision des activités des établissements financiers et de vérifier la conformité des phrases relatives aux produits financiers aux règlements en vigueur.\n",
    "1. Recherche Documentaire :\n",
    "•\tGérer les requêtes complexes en comprenant les relations entre les termes de recherche.\n",
    "•\tSi l’utilisateur ne parvient pas à trouver ce qu’il cherche, donne-lui des exemples de phrases à renseigner. Par exemple, donne-lui des mots clés ou des catégories. \n",
    "•\tSi tu lis une abréviation, que ce soit par l’utilisateur ou dans un document, et que tu ne la comprends pas, dis que tu ne comprends l’abréviation et cite-la. \n",
    "2. Accès aux Informations :\n",
    "•\tExtraire de manière précise les informations pertinentes des documents normatifs en réponse aux requêtes de l'utilisateur.\n",
    "•\tRestituer le contexte entourant une information pour une meilleure compréhension. Faire bien attention, à séparer la citation du texte normatif des informations contextuelles. Le texte normatif doit être clairement identifiable et ne doit pas avoir été modifié. \n",
    "3. Conformité des Phrases aux Règlements :\n",
    "•\tPermettre à l'utilisateur de soumettre une phrase relative à un produit financier et demander si elle est conforme aux règlements en vigueur.\n",
    "•\tAnalyser la phrase en utilisant les règles et les normes énoncées dans les documents normatifs.\n",
    "4. Gestion des Erreurs et Ambiguïtés :\n",
    "•\tGérer les situations où une requête est ambiguë ou incomplète en demandant des clarifications.\n",
    "•\tSi tu ne connais pas la réponse, dis-le et ne cherche pas à rajouter d’autres éléments à part des questions pour plus de précision.\n",
    "5. Mises à Jour Légales :\n",
    "•\tInformer les utilisateurs des modifications récentes dans la législation financière.\n",
    "6. Interaction Naturelle :\n",
    "•\tFavoriser une interaction conversationnelle naturelle avec l'utilisateur en comprenant le langage courant et en fournissant des réponses compréhensibles.\n",
    "•\tRéponds avec un langage formel est clair. Ce que tu écris doit pouvoir être présenté dans des rapports officiels. \n",
    "7. Assistance et Support :\n",
    "•\tFournir un support contextuel pour aider les utilisateurs à formuler des requêtes de manière efficace. Attention, cela ne doit jamais modifier les textes normatifs dans tes réponses.\n",
    "\n",
    "Points de contrôles sur lesquels baser la réponse : \n",
    "\n",
    "\"\"\""
   ]
  },
  {
   "cell_type": "code",
   "execution_count": 31,
   "metadata": {},
   "outputs": [],
   "source": [
    "os.environ[\"AZURE_OPENAI_DeploymentId\"] = \"gpt-35-turbo\"\n",
    "\n",
    "def generate_answer(prompt, system_prompt, trace = []):\n",
    "  if (len(trace) == 0):\n",
    "    trace = [\n",
    "      {\"role\": \"system\", \"content\": system_prompt},\n",
    "      {\"role\": \"user\", \"content\": prompt},\n",
    "    ]\n",
    "  else:\n",
    "    trace.append({\"role\": \"user\", \"content\": prompt})\n",
    "  res = client.chat.completions.create(\n",
    "    model=os.getenv(\"AZURE_OPENAI_DeploymentId\"),\n",
    "    messages=trace\n",
    "  ).choices[0].message\n",
    "  trace.append({\n",
    "    \"role\": res.role,\n",
    "    \"content\": res.content\n",
    "  })\n",
    "  \n",
    "  return {\n",
    "    \"content\": res.content,\n",
    "    \"trace\": trace\n",
    "  }\n",
    "\n",
    "def process_prompt(prompt, trace = []):\n",
    "  res = search_docs(df, prompt, top_n=2, to_print=False)\n",
    "  sys_prompt = system_prompt + \"\\n\".join(res[\"content\"])\n",
    "  answer = generate_answer(prompt, sys_prompt, trace)\n",
    "  return ({\"answer\": answer[\"content\"], \"docs\": res, \"trace\": answer[\"trace\"]})"
   ]
  },
  {
   "cell_type": "code",
   "execution_count": 15,
   "metadata": {},
   "outputs": [
    {
     "data": {
      "text/html": [
       "<div>\n",
       "<style scoped>\n",
       "    .dataframe tbody tr th:only-of-type {\n",
       "        vertical-align: middle;\n",
       "    }\n",
       "\n",
       "    .dataframe tbody tr th {\n",
       "        vertical-align: top;\n",
       "    }\n",
       "\n",
       "    .dataframe thead th {\n",
       "        text-align: right;\n",
       "    }\n",
       "</style>\n",
       "<table border=\"1\" class=\"dataframe\">\n",
       "  <thead>\n",
       "    <tr style=\"text-align: right;\">\n",
       "      <th></th>\n",
       "      <th>content</th>\n",
       "      <th>n_tokens</th>\n",
       "      <th>embedding</th>\n",
       "      <th>similarities</th>\n",
       "    </tr>\n",
       "  </thead>\n",
       "  <tbody>\n",
       "    <tr>\n",
       "      <th>0</th>\n",
       "      <td>Point de contrôle 1 ======= # Catégorie : Tier...</td>\n",
       "      <td>143</td>\n",
       "      <td>[-0.017865363508462906, -0.019515523687005043,...</td>\n",
       "      <td>0.766913</td>\n",
       "    </tr>\n",
       "    <tr>\n",
       "      <th>1</th>\n",
       "      <td>Point de contrôle 2 ======= # Catégorie : Tier...</td>\n",
       "      <td>946</td>\n",
       "      <td>[-0.02869136817753315, -0.020042575895786285, ...</td>\n",
       "      <td>0.729033</td>\n",
       "    </tr>\n",
       "    <tr>\n",
       "      <th>2</th>\n",
       "      <td>Point de contrôle 3 ======= # Catégorie : Tier...</td>\n",
       "      <td>236</td>\n",
       "      <td>[-0.009903984144330025, -0.022082369774580002,...</td>\n",
       "      <td>0.755501</td>\n",
       "    </tr>\n",
       "    <tr>\n",
       "      <th>3</th>\n",
       "      <td>Point de contrôle 4 ======= # Catégorie : Tier...</td>\n",
       "      <td>513</td>\n",
       "      <td>[-0.027942441403865814, -0.019337281584739685,...</td>\n",
       "      <td>0.761505</td>\n",
       "    </tr>\n",
       "    <tr>\n",
       "      <th>4</th>\n",
       "      <td>Point de contrôle 5 ======= # Catégorie : Tier...</td>\n",
       "      <td>777</td>\n",
       "      <td>[-0.02356548421084881, -0.022029506042599678, ...</td>\n",
       "      <td>0.748147</td>\n",
       "    </tr>\n",
       "    <tr>\n",
       "      <th>5</th>\n",
       "      <td>Point de contrôle 23 ======= # Catégorie : Don...</td>\n",
       "      <td>386</td>\n",
       "      <td>[-0.009391171857714653, 0.007496757432818413, ...</td>\n",
       "      <td>0.766757</td>\n",
       "    </tr>\n",
       "    <tr>\n",
       "      <th>6</th>\n",
       "      <td>Point de contrôle 13 ======= # Catégorie : Aut...</td>\n",
       "      <td>323</td>\n",
       "      <td>[-0.00961134023964405, -0.00813981145620346, 0...</td>\n",
       "      <td>0.876890</td>\n",
       "    </tr>\n",
       "  </tbody>\n",
       "</table>\n",
       "</div>"
      ],
      "text/plain": [
       "                                             content  n_tokens  \\\n",
       "0  Point de contrôle 1 ======= # Catégorie : Tier...       143   \n",
       "1  Point de contrôle 2 ======= # Catégorie : Tier...       946   \n",
       "2  Point de contrôle 3 ======= # Catégorie : Tier...       236   \n",
       "3  Point de contrôle 4 ======= # Catégorie : Tier...       513   \n",
       "4  Point de contrôle 5 ======= # Catégorie : Tier...       777   \n",
       "5  Point de contrôle 23 ======= # Catégorie : Don...       386   \n",
       "6  Point de contrôle 13 ======= # Catégorie : Aut...       323   \n",
       "\n",
       "                                           embedding  similarities  \n",
       "0  [-0.017865363508462906, -0.019515523687005043,...      0.766913  \n",
       "1  [-0.02869136817753315, -0.020042575895786285, ...      0.729033  \n",
       "2  [-0.009903984144330025, -0.022082369774580002,...      0.755501  \n",
       "3  [-0.027942441403865814, -0.019337281584739685,...      0.761505  \n",
       "4  [-0.02356548421084881, -0.022029506042599678, ...      0.748147  \n",
       "5  [-0.009391171857714653, 0.007496757432818413, ...      0.766757  \n",
       "6  [-0.00961134023964405, -0.00813981145620346, 0...      0.876890  "
      ]
     },
     "execution_count": 15,
     "metadata": {},
     "output_type": "execute_result"
    }
   ],
   "source": [
    "df"
   ]
  },
  {
   "cell_type": "code",
   "execution_count": 28,
   "metadata": {},
   "outputs": [],
   "source": [
    "res = process_prompt(\"L'API a eu un niveau de disponibilité largement inférieur comparé à l'interface client sur septembre, est-ce conforme à la réglementation ?\")"
   ]
  },
  {
   "cell_type": "code",
   "execution_count": 29,
   "metadata": {},
   "outputs": [
    {
     "data": {
      "text/plain": [
       "[{'role': 'system',\n",
       "  'content': \"Objectif Principal : Le système doit permettre aux employés de l'ACPR d'accéder facilement aux documents normatifs relatifs à la supervision des activités des établissements financiers et de vérifier la conformité des phrases relatives aux produits financiers aux règlements en vigueur.\\n1. Recherche Documentaire :\\n•\\tGérer les requêtes complexes en comprenant les relations entre les termes de recherche.\\n•\\tSi l’utilisateur ne parvient pas à trouver ce qu’il cherche, donne-lui des exemples de phrases à renseigner. Par exemple, donne-lui des mots clés ou des catégories. \\n•\\tSi tu lis une abréviation, que ce soit par l’utilisateur ou dans un document, et que tu ne la comprends pas, dis que tu ne comprends l’abréviation et cite-la. \\n2. Accès aux Informations :\\n•\\tExtraire de manière précise les informations pertinentes des documents normatifs en réponse aux requêtes de l'utilisateur.\\n•\\tRestituer le contexte entourant une information pour une meilleure compréhension. Faire bien attention, à séparer la citation du texte normatif des informations contextuelles. Le texte normatif doit être clairement identifiable et ne doit pas avoir été modifié. \\n3. Conformité des Phrases aux Règlements :\\n•\\tPermettre à l'utilisateur de soumettre une phrase relative à un produit financier et demander si elle est conforme aux règlements en vigueur.\\n•\\tAnalyser la phrase en utilisant les règles et les normes énoncées dans les documents normatifs.\\n4. Gestion des Erreurs et Ambiguïtés :\\n•\\tGérer les situations où une requête est ambiguë ou incomplète en demandant des clarifications.\\n•\\tSi tu ne connais pas la réponse, dis-le et ne cherche pas à rajouter d’autres éléments à part des questions pour plus de précision.\\n5. Mises à Jour Légales :\\n•\\tInformer les utilisateurs des modifications récentes dans la législation financière.\\n6. Interaction Naturelle :\\n•\\tFavoriser une interaction conversationnelle naturelle avec l'utilisateur en comprenant le langage courant et en fournissant des réponses compréhensibles.\\n•\\tRéponds avec un langage formel est clair. Ce que tu écris doit pouvoir être présenté dans des rapports officiels. \\n7. Assistance et Support :\\n•\\tFournir un support contextuel pour aider les utilisateurs à formuler des requêtes de manière efficace. Attention, cela ne doit jamais modifier les textes normatifs dans tes réponses.\\n\\nPoints de contrôles sur lesquels baser la réponse : \\n\\nPoint de contrôle 13 ======= # Catégorie : Authentification à l’interface d’accès # Numéro : 13 # Intitulé du point de contrôle : L’interface d’accès doit prévoir une exemption d’authentification forte de 180 jours pour les prestataires de services d’information sur les comptes. Concrètement, les tokens doivent être valides au moins pour une durée de 180 jours. Dans l’attente, il ne peut être fait de différences en termes de fréquence d’authentification entre les interfaces d’accès et l’accès direct aux comptes de paiement mis à disposition par l’établissement teneur de compte à ses clients. # Base légale : 1. Article 10 du Règlement délégué n°2018/389 – RTS SCA-CSC 2. Point 30 de l’Opinion EBA/OP/2020/10 # Exemple de conformité : La durée de validité du token pour accéder aux comptes de paiements est de 190 jours. # Exemple de non-conformité : La durée de vie du refresh token est toujours de 90 jours au lieu des 180 imposés par la réglementation. # Procédure à suivre : Informer l’établissement de la non-conformité de leur pratique, et demander l’extension immédiate de la durée de validité des tokens à 180 jours.\\nPoint de contrôle 23 ======= # Catégorie : Données communiquées par les Prestataires de services de paiement gestionnaire de compte (PSPGC) aux Tiers prestataires de service de paiements (TPP) # Numéro : 23 # Intitulé du point de contrôle : Toutes les informations liées aux comptes de paiement, mises à la disposition de l’utilisateur de services de paiement doivent être disponibles dans l’API (par exemple et sans exhaustivité : les libellés des comptes, la distinction des cartes à débit différé, la date des opérations, les opérations en attente..) selon le principe d’une non- discrimination entre banque en ligne et interface dédiée. Les services à valeur ajoutée fournis par l’établissement teneur de compte ne sont pas concernés par cette disposition (exemple : aide à la gestion du budget, service Paylib..). # Base légale : 1. Article 67 2. d) et 3. b) de la DSP2. 2. Article L133-41 du Code monétaire et financier. 3. Article 36 (1) (a) du Règlement délégué n°2018/389 – RTS SCA-CSC # Exemple de conformité : # Exemple de non-conformité : L'API est limitée à une restitution de 700 opérations pour une période donnée. Elle ne remonte pas l'ensemble des opérations, contrairement au relevé de comptes du client. # Procédure à suivre : Informer l’établissement de la non-conformité observée, et demander les éléments de remédiation dans un délai de 3 mois.\"},\n",
       " {'role': 'user',\n",
       "  'content': \"L'API a eu un niveau de disponibilité largement inférieur comparé à l'interface client sur septembre, est-ce conforme à la réglementation ?\"},\n",
       " {'role': 'assistant',\n",
       "  'content': \"Je comprends que vous souleviez une préoccupation quant au niveau de disponibilité de l'API par rapport à l'interface client en septembre. Pour évaluer la conformité à la réglementation, nous devons nous baser sur certains critères spécifiques définis dans la législation. Pourriez-vous préciser les détails concernant le niveau de disponibilité spécifique que vous souhaitez que je vérifie par rapport à la réglementation en vigueur ?\"}]"
      ]
     },
     "execution_count": 29,
     "metadata": {},
     "output_type": "execute_result"
    }
   ],
   "source": [
    "res[\"answer\"]"
   ]
  },
  {
   "cell_type": "code",
   "execution_count": 32,
   "metadata": {},
   "outputs": [],
   "source": [
    "res = process_prompt(\"Utilise les points de contrôle fournis\", trace=res[\"trace\"])"
   ]
  },
  {
   "cell_type": "code",
   "execution_count": 34,
   "metadata": {},
   "outputs": [
    {
     "data": {
      "text/plain": [
       "\"D'accord, je vais utiliser les points de contrôle fournis pour évaluer la conformité du niveau de disponibilité de l'API par rapport à l'interface client sur le mois de septembre.\\n\\nPoint de contrôle 23 de la réglementation stipule que toutes les informations liées aux comptes de paiement, mises à la disposition de l’utilisateur de services de paiement, doivent être disponibles dans l'API, sans discrimination entre l'API et l'interface client.\\n\\nSi l'API a eu un niveau de disponibilité largement inférieur par rapport à l'interface client en septembre, cela pourrait être considéré comme une non-conformité à ce point de contrôle. Cependant, pour une évaluation plus précise, des données spécifiques sur le niveau de disponibilité de l'API et de l'interface client seraient nécessaires.\\n\\nEn fonction de ces données, il serait possible de déterminer si une non-conformité à la réglementation a eu lieu et de mettre en place les actions correctives appropriées le cas échéant.\\n\\nSi vous avez des données spécifiques à fournir pour cette évaluation, n'hésitez pas à les partager.\""
      ]
     },
     "execution_count": 34,
     "metadata": {},
     "output_type": "execute_result"
    }
   ],
   "source": [
    "res[\"answer\"]"
   ]
  }
 ],
 "metadata": {
  "kernelspec": {
   "display_name": "Python 3",
   "language": "python",
   "name": "python3"
  },
  "language_info": {
   "codemirror_mode": {
    "name": "ipython",
    "version": 3
   },
   "file_extension": ".py",
   "mimetype": "text/x-python",
   "name": "python",
   "nbconvert_exporter": "python",
   "pygments_lexer": "ipython3",
   "version": "3.12.1"
  }
 },
 "nbformat": 4,
 "nbformat_minor": 2
}
